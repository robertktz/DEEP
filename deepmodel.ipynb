{
 "cells": [
  {
   "attachments": {},
   "cell_type": "markdown",
   "metadata": {},
   "source": [
    "# DeepLearning the Fashion-MNIST\n",
    "## Robert Kurtz / July 2023\n",
    "- My first Use Case of Neuro Networks\n",
    "- Training the model \n",
    "- playing around with the features and seeing the effects of each parameter\n",
    "- getting a good accuracy score for the prediction\n",
    "- comparing with the udemy solution"
   ]
  },
  {
   "cell_type": "code",
   "execution_count": 71,
   "metadata": {},
   "outputs": [],
   "source": [
    "import numpy as np\n",
    "import tensorflow as tf\n",
    "import pandas as pd\n",
    "import seaborn as sns"
   ]
  },
  {
   "attachments": {},
   "cell_type": "markdown",
   "metadata": {},
   "source": [
    "## 01. Loading the Data\n",
    "\n",
    "The are two ways of importing the data which is already split. Either with Numpy or with Tensorflow. For practise purposes I will do both and # hashtag the other one so I can refer to both in case i wanted to.\n",
    "\n",
    "- The Training data consists of 60k images\n",
    "- The Test data of 10 images \n",
    "- We also load their corresponding labels"
   ]
  },
  {
   "attachments": {},
   "cell_type": "markdown",
   "metadata": {},
   "source": [
    "### Tensorflow Import"
   ]
  },
  {
   "cell_type": "code",
   "execution_count": 72,
   "metadata": {},
   "outputs": [],
   "source": [
    "#Loading via Tensorflow\n",
    "\n",
    "(x_train, y_train), (x_test, y_test) = tf.keras.datasets.fashion_mnist.load_data()\n",
    "\n",
    "# x_train and x_test are NumPy arrays containing the grayscale image data\n",
    "# y_train and y_test are NumPy arrays containing the corresponding labels"
   ]
  },
  {
   "cell_type": "code",
   "execution_count": 73,
   "metadata": {},
   "outputs": [
    {
     "name": "stdout",
     "output_type": "stream",
     "text": [
      "(60000, 28, 28)\n",
      "(10000, 28, 28)\n"
     ]
    }
   ],
   "source": [
    "print(x_train.shape)  # Output: (60000, 28, 28)\n",
    "print(x_test.shape)   # Output: (10000, 28, 28)"
   ]
  },
  {
   "attachments": {},
   "cell_type": "markdown",
   "metadata": {},
   "source": [
    "### Alternative: Numpy Import\n",
    "\n",
    "- Here we do the split of naming x_test etc. manually...\n",
    "- With Tensorflow it was already integrated"
   ]
  },
  {
   "cell_type": "code",
   "execution_count": 74,
   "metadata": {},
   "outputs": [],
   "source": [
    "#Loading via NumPy (funktioniert aktuell nicht)\n",
    "#import gzip\n",
    "\n",
    "#x_train = np.loadtxt('data/fashion/train-images-idx3-ubyte.gz', dtype=np.uint8)\n",
    "#y_train = np.loadtxt('data/fashion/train-labels-idx1-ubyte.gz', dtype=np.uint8)\n",
    "#x_test = np.loadtxt('data/fashion/t10k-images-idx3-ubyte.gz', dtype=np.uint8)\n",
    "#y_test = np.loadtxt('data/fashion/train-labels-idx1-ubyte.gz', dtype=np.uint8)\n",
    "\n"
   ]
  },
  {
   "attachments": {},
   "cell_type": "markdown",
   "metadata": {},
   "source": [
    "## Looking at the images..."
   ]
  },
  {
   "cell_type": "code",
   "execution_count": 75,
   "metadata": {},
   "outputs": [
    {
     "data": {
      "image/png": "[encoded data removed]",
      "text/plain": [
       "<Figure size 1200x600 with 3 Axes>"
      ]
     },
     "metadata": {},
     "output_type": "display_data"
    }
   ],
   "source": [
    "import matplotlib.pyplot as plt\n",
    "\n",
    "# You can visualize a random sample of images from the training dataset\n",
    "\n",
    "# Defining a dictionary to map class labels to their names\n",
    "label_names = {\n",
    "    0: 'T-shirt/top',\n",
    "    1: 'Trouser',\n",
    "    2: 'Pullover',\n",
    "    3: 'Dress',\n",
    "    4: 'Coat',\n",
    "    5: 'Sandal',\n",
    "    6: 'Shirt',\n",
    "    7: 'Sneaker',\n",
    "    8: 'Bag',\n",
    "    9: 'Ankle boot'\n",
    "}\n",
    "\n",
    "# Choose the number of images you want to visualize\n",
    "num_images_to_visualize = 3\n",
    "\n",
    "# Generate random indices to select random images from the training dataset\n",
    "\n",
    "import random\n",
    "random_indices = random.sample(range(len(x_train)), num_images_to_visualize)\n",
    "\n",
    "# Plot the images\n",
    "plt.figure(figsize=(12, 6))\n",
    "for i, index in enumerate(random_indices):\n",
    "    plt.subplot(1, num_images_to_visualize, i+1)\n",
    "    plt.imshow(x_train[index], cmap='gray')\n",
    "    plt.title(f\"Label: {label_names[y_train[index]]}\")\n",
    "    plt.axis('off')\n",
    "plt.show()"
   ]
  },
  {
   "attachments": {},
   "cell_type": "markdown",
   "metadata": {},
   "source": [
    "## 02. Reshaping and normalizing the data\n",
    "\n",
    "1. **Reshaping**:\n",
    "\n",
    "In deep learning, convolutional neural networks (CNNs) expect input data to be in a specific format. For image data, especially when working with TensorFlow or Keras, the data should be represented as a 4-dimensional array (tensor) with the following dimensions:\n",
    "\n",
    "- Number of samples (batch size): This represents the number of images in your dataset. In the case of the Fashion-MNIST training set, there are 60,000 images, and in the test set, there are 10,000 images.\n",
    "- Image height: This represents the height (number of rows) of each image. For Fashion-MNIST, the images are 28 pixels in height.\n",
    "- Image width: This represents the width (number of columns) of each image. For Fashion-MNIST, the images are 28 pixels in width.\n",
    "- Number of channels: For grayscale images, the number of channels is 1, as there is only one intensity value (gray level) per pixel. For RGB color images, the number of channels would be 3 (for red, green, and blue).\n",
    "The original Fashion-MNIST dataset consists of 60,000 images with a shape of (28, 28) each. To convert the data into the expected 4-dimensional format, we use the reshape() function to add the channel dimension. The code x_train.reshape((-1, 28, 28, 1)) reshapes the x_train array from shape (60000, 28, 28) to shape (60000, 28, 28, 1).\n",
    "\n",
    "2. **Normalizing**:\n",
    "\n",
    "Neural networks tend to perform better when the input data is scaled or normalized to a similar range. For image data, the pixel values are usually represented as integers ranging from 0 to 255, where 0 corresponds to black and 255 corresponds to white (for grayscale images). Normalizing the data involves scaling the pixel values to a range between 0 and 1.\n",
    "\n",
    "Dividing each pixel value by 255 achieves this normalization, as dividing any value in the range [0, 255] by 255 will result in a value between 0 and 1. This process ensures that the pixel values become floating-point numbers between 0 and 1, which helps the neural network to learn more effectively during training.\n",
    "\n",
    "After normalization, the pixel values will be between 0 and 1, where 0 represents black, 1 represents white, and values in between represent different shades of gray."
   ]
  },
  {
   "cell_type": "code",
   "execution_count": 76,
   "metadata": {},
   "outputs": [],
   "source": [
    "# Assuming x_train and x_test have the shape (60000, 28, 28) and (10000, 28, 28), respectively\n",
    "#reshaping & normalizing images\n",
    "x_train = x_train.reshape((-1, 28, 28, 1))/ 255\n",
    "x_test = x_test.reshape((-1, 28, 28, 1))/ 255"
   ]
  },
  {
   "cell_type": "code",
   "execution_count": 77,
   "metadata": {},
   "outputs": [
    {
     "data": {
      "text/plain": [
       "(60000, 28, 28, 1)"
      ]
     },
     "execution_count": 77,
     "metadata": {},
     "output_type": "execute_result"
    }
   ],
   "source": [
    "#to check if all is correct\n",
    "x_train.shape"
   ]
  },
  {
   "attachments": {},
   "cell_type": "markdown",
   "metadata": {},
   "source": [
    "## 03. Encoding of the labels\n",
    "\n",
    "One-hot encoding is a process used to convert categorical data into a format that can be better understood and processed by machine learning algorithms, especially in the context of classification tasks. In the case of the Fashion-MNIST dataset, the one-hot encoding is applied to the class labels, which represent the categories of clothing items (0 to 9).\n",
    "\n",
    "Here's a quick explanation of one-hot encoding:\n",
    "\n",
    "Step 1: Original Class Labels\n",
    "\n",
    "In the original Fashion-MNIST dataset, the class labels range from 0 to 9, representing the following categories:\n",
    "\n",
    "0. T-shirt/top\n",
    "1. Trouser\n",
    "2. Pullover\n",
    "3. Dress\n",
    "4. Coat\n",
    "5. Sandal\n",
    "6. Shirt\n",
    "7. Sneaker\n",
    "8. Bag\n",
    "9. Ankle boot\n",
    "\n",
    "Step 2: One-Hot Encoding\n",
    "\n",
    "One-hot encoding converts each class label into a binary vector where all elements are 0 except for one element, which is set to 1. The position of the 1 in the vector corresponds to the original class label. For example:\n",
    "\n",
    "Class label 0 (T-shirt/top) is encoded as [1, 0, 0, 0, 0, 0, 0, 0, 0, 0]\n",
    "Class label 1 (Trouser) is encoded as [0, 1, 0, 0, 0, 0, 0, 0, 0, 0]\n",
    "Class label 2 (Pullover) is encoded as [0, 0, 1, 0, 0, 0, 0, 0, 0, 0]\n",
    "... and so on.\n",
    "\n",
    "This encoding allows the machine learning model to understand the class labels as distinct categories without implying any numerical order. For example, a Trouser (class 1) is not \"greater\" or \"less\" than a T-shirt (class 0) in a meaningful way; they are simply different categories.\n",
    "\n",
    "Step 3: Usage in Classification Tasks\n",
    "\n",
    "One-hot encoding is particularly useful for classification tasks where the output is categorical and not ordinal (no inherent order among classes). When training a neural network for multi-class classification, you typically use one-hot encoded vectors as the target labels. The network's output will be a probability distribution over the classes, and the one-hot encoded labels serve as target probabilities for each class.\n",
    "\n",
    "In Python with TensorFlow/Keras, you can easily perform one-hot encoding using tf.keras.utils.to_categorical() function"
   ]
  },
  {
   "cell_type": "code",
   "execution_count": 78,
   "metadata": {},
   "outputs": [],
   "source": [
    "# One-Hot Encoding of labels\n",
    "y_train = tf.keras.utils.to_categorical(y_train, num_classes=10)\n",
    "y_test = tf.keras.utils.to_categorical(y_test, num_classes=10)"
   ]
  },
  {
   "attachments": {},
   "cell_type": "markdown",
   "metadata": {},
   "source": [
    "## 04. Building the Model Architecture\n",
    "\n",
    "In step 4, we define the model architecture, which specifies the structure and design of the neural network. For Fashion-MNIST, a simple Convolutional Neural Network (CNN) architecture is commonly used. A CNN is particularly well-suited for image recognition tasks due to its ability to automatically learn hierarchical features from the input images.\n",
    "\n",
    "The basic architecture of the CNN for Fashion-MNIST typically consists of the following layers:\n",
    "\n",
    "1. Input Layer:\n",
    "\n",
    "This layer defines the input shape of the images that the model will process. For Fashion-MNIST, the images are 28x28 grayscale images, so the input shape is (28, 28, 1).\n",
    "\n",
    "2. Convolutional Layers:\n",
    "\n",
    "Convolutional layers apply filters (also known as kernels) to the input image to extract features. These filters move across the image and perform element-wise multiplication and summation to generate feature maps.\n",
    "Each convolutional layer is followed by an activation function, such as ReLU (Rectified Linear Unit), to introduce non-linearity into the network.\n",
    "The number of filters and the size of the filters (kernel size) are important hyperparameters that you can adjust based on the complexity of the data and the desired performance.\n",
    "\n",
    "3. Pooling Layers:\n",
    "\n",
    "Pooling layers reduce the spatial dimensions of the feature maps, reducing computational complexity and making the model more robust to spatial variations in the input.\n",
    "Common pooling operations are MaxPooling, which takes the maximum value within a region, and AveragePooling, which takes the average value within a region.\n",
    "\n",
    "4. Flatten Layer:\n",
    "\n",
    "After several convolutional and pooling layers, the model needs to flatten the 2D feature maps into a 1D vector to connect to the fully connected layers.\n",
    "\n",
    "5. Fully Connected (Dense) Layers:\n",
    "\n",
    "Fully connected layers take the flattened feature vector as input and process it with weights and biases.\n",
    "These layers combine high-level features extracted by the convolutional layers to make predictions.\n",
    "The last dense layer typically has a softmax activation function, which converts the final layer's output into a probability distribution over the classes.\n",
    "\n",
    "6. Output Layer:\n",
    "\n",
    "The output layer represents the final predictions of the model.\n",
    "For Fashion-MNIST, the output layer has 10 neurons, corresponding to the 10 classes (clothing categories).\n",
    "The softmax activation function is used to convert the final layer's outputs into probabilities for each class, indicating the likelihood of each image belonging to each category.\n",
    "The specific architecture details, such as the number of convolutional layers, the number of filters, the number of neurons in the fully connected layers, and other hyperparameters, can be adjusted based on the complexity of the problem and available computational resources."
   ]
  },
  {
   "cell_type": "code",
   "execution_count": 79,
   "metadata": {},
   "outputs": [],
   "source": [
    "from tensorflow import keras\n",
    "\n",
    "# Step 2: Model Architecture\n",
    "model = keras.Sequential([\n",
    "    keras.layers.Conv2D(32, (3, 3), activation='relu', input_shape=(28, 28, 1)), \n",
    "    #This line defines the first convolutional layer with 32 filters (also known as channels or feature maps).\n",
    "    #Each filter has a size of 3x3 pixels.\n",
    "    #The activation function used in this layer is ReLU (Rectified Linear Unit), which introduces non-linearity into the model to learn complex patterns.\n",
    "    #The input_shape=(28, 28, 1) specifies the shape of the input images, which are 28x28 grayscale images with a single channel.\n",
    "    keras.layers.MaxPooling2D((2, 2)),\n",
    "    #This line defines the first max-pooling layer.\n",
    "    #Max-pooling reduces the spatial dimensions of the feature maps by taking the maximum value within a 2x2 region.\n",
    "    #It helps in reducing the computational complexity and providing translation invariance to the model.\n",
    "    keras.layers.Conv2D(64, (3, 3), activation='relu'),\n",
    "    #This line defines the second convolutional layer with 64 filters. It also has the filters at 3x3 and the activation function is ReLu.\n",
    "    keras.layers.MaxPooling2D((2, 2)), #This line defines the second max-pooling layer.\n",
    "    keras.layers.Flatten(), #This line introduces the Flatten layer.\n",
    "    #After the convolutional and pooling layers, the feature maps need to be flattened into a 1D vector to connect to the fully connected layers.\n",
    "    keras.layers.Dense(128, activation='relu'), #This line defines the first fully connected layer (dense layer) with 128 neurons.\n",
    "    #The activation function used here is ReLU.\n",
    "    keras.layers.Dense(10, activation='softmax')  #This line defines the output layer with 10 neurons, corresponding to the 10 classes in the Fashion-MNIST dataset.\n",
    "    #The activation function used here is softmax, which converts the raw output scores into probabilities.\n",
    "    #The output of this layer represents the probability distribution over the 10 classes, indicating the likelihood of each image belonging to each category.\n",
    "])\n"
   ]
  },
  {
   "attachments": {},
   "cell_type": "markdown",
   "metadata": {},
   "source": [
    "### Discussing the choices of numbers (e.g., filter sizes, number of filters, number of neurons) in the architecture:\n",
    "\n",
    "1. The number of filters in the convolutional layers (32 and 64) is chosen based on a balance between model complexity and available computational resources. Increasing the number of filters allows the model to learn more complex features, but it also increases the number of model parameters and computational cost.\n",
    "\n",
    "2. The filter size (3x3) is a common choice for convolutional layers and has been found to be effective in capturing local patterns in images.\n",
    "\n",
    "3. The choice of max-pooling layers with a pooling size of (2, 2) reduces the spatial dimensions of the feature maps by half, effectively downsampling the data.\n",
    "\n",
    "4. The number of neurons in the fully connected layer (128) is another hyperparameter that can be adjusted based on the complexity of the problem and the size of the dataset.\n",
    "\n",
    "5. The output layer has 10 neurons to match the number of classes in Fashion-MNIST. The softmax activation function provides a probability distribution over the classes, allowing the model to make predictions for each category."
   ]
  },
  {
   "attachments": {},
   "cell_type": "markdown",
   "metadata": {},
   "source": [
    "## 05. Compiling the Model\n",
    "\n",
    "Step 5 involves compiling the model, which is a crucial step before training the neural network. Compiling the model means specifying additional settings that define how the model will be trained, such as the optimizer, the loss function, and any additional metrics to monitor during training."
   ]
  },
  {
   "cell_type": "code",
   "execution_count": 80,
   "metadata": {},
   "outputs": [],
   "source": [
    "#RMSprop optimizer --> It makes sense to try out various e.g. the \"adam\" and see which works better\n",
    "\n",
    "optimizer = tf.keras.optimizers.RMSprop(learning_rate=0.001, rho=0.9) \n",
    "#learning_rate parameter controls the step size at each iteration, and the rho parameter is the decay rate for the moving average of squared gradients\n",
    "\n",
    "model.compile(optimizer=optimizer,\n",
    "              loss='categorical_crossentropy',\n",
    "              metrics=['accuracy'])"
   ]
  },
  {
   "attachments": {},
   "cell_type": "markdown",
   "metadata": {},
   "source": [
    "**Optimizer:**\n",
    "The optimizer is a crucial component of training neural networks. It determines how the model's weights are updated during training to minimize the loss function.\n",
    "'RMSprop' is one of the popular optimizers used in deep learning. It stands for \"Root Mean Square Propagation\" and is well-suited for recurrent neural networks (RNNs) and certain non-stationary problems.\n",
    "RMSprop adapts the learning rate for each parameter by using a moving average of squared gradients. This helps in efficient training and better convergence on certain types of tasks.\n",
    "\n",
    "**Loss Function:**\n",
    "The loss function is a measure of how well the model's predictions match the true target labels during training.\n",
    "For multi-class classification tasks like Fashion-MNIST, where we are predicting one out of several classes, 'categorical_crossentropy' is a commonly used loss function.\n",
    "Categorical cross-entropy measures the dissimilarity between the true one-hot encoded labels and the predicted probabilities for each class. The goal of training is to minimize this loss, effectively improving the model's ability to correctly classify the images.\n",
    "\n",
    "**Metrics:**\n",
    "Metrics are used to monitor the model's performance during training, but they do not affect the model's weights' optimization.\n",
    "In this case, we are using ['accuracy'] as the metric, which means we want to track the accuracy of the model on the training and validation datasets during training.\n",
    "Accuracy is a common metric for classification tasks and represents the proportion of correct predictions compared to the total number of samples in the dataset."
   ]
  },
  {
   "attachments": {},
   "cell_type": "markdown",
   "metadata": {},
   "source": [
    "## 06. Model Training\n",
    "\n",
    "- Using Back Progagation and the specified optimizer\n",
    "\n",
    "After the compiling, the model is now ready for training. During the training process, the model will iteratively adjust its weights using backpropagation and the specified optimizer, with the goal of minimizing the loss function and improving accuracy.\n",
    "\n",
    "+++\n",
    "\n",
    "Model training is the process of fitting the neural network to the training data, allowing it to learn from the input-output pairs and adjust its weights to make accurate predictions on new, unseen data. The key components of model training are the following:"
   ]
  },
  {
   "attachments": {},
   "cell_type": "markdown",
   "metadata": {},
   "source": [
    "### Explaining the components:\n",
    "\n",
    "1. **Epochs:**\n",
    "\n",
    "    - One epoch corresponds to one iteration over the entire training dataset.\n",
    "    - During training, the model processes the entire dataset in batches and updates its weights after each epoch.\n",
    "    - The number of epochs is a hyperparameter that determines how many times the model will see the entire dataset. Too few epochs may result in underfitting (insufficient learning), while too many epochs may lead to overfitting (memorizing the training data without generalizing well to new data).\n",
    "\n",
    "2. **Batch Size:**\n",
    "\n",
    "    - The batch size represents the number of samples that the model processes together before updating its weights.\n",
    "    - A smaller batch size (e.g., 32) means the model updates its weights more frequently but with higher variance in the weight updates.\n",
    "    - A larger batch size (e.g., 128) means fewer weight updates but with lower variance.\n",
    "    - The batch size can affect the training time, memory usage, and convergence behavior of the model.\n",
    "\n",
    "3. **Validation Split:**\n",
    "\n",
    "    - During training, it's common to split the training dataset into training and validation sets to monitor the model's performance on data it has not seen before.\n",
    "    - The validation split is the fraction of the training data used for validation. For example, with a validation split of 0.2, 20% of the training data is used for validation, and the remaining 80% is used for training.\n",
    "    - The validation set helps in identifying potential overfitting or underfitting and allows for early stopping to prevent unnecessary training if the model's performance on the validation set plateaus or starts degrading."
   ]
  },
  {
   "cell_type": "code",
   "execution_count": 81,
   "metadata": {},
   "outputs": [
    {
     "name": "stdout",
     "output_type": "stream",
     "text": [
      "Epoch 1/10\n",
      "1407/1407 [==============================] - 21s 15ms/step - loss: 0.4866 - accuracy: 0.8206 - val_loss: 0.3894 - val_accuracy: 0.8570\n",
      "Epoch 2/10\n",
      "1407/1407 [==============================] - 20s 14ms/step - loss: 0.3178 - accuracy: 0.8847 - val_loss: 0.3527 - val_accuracy: 0.8752\n",
      "Epoch 3/10\n",
      "1407/1407 [==============================] - 41s 29ms/step - loss: 0.2734 - accuracy: 0.9015 - val_loss: 0.3025 - val_accuracy: 0.8892\n",
      "Epoch 4/10\n",
      "1407/1407 [==============================] - 25s 18ms/step - loss: 0.2412 - accuracy: 0.9123 - val_loss: 0.2985 - val_accuracy: 0.8939\n",
      "Epoch 5/10\n",
      "1407/1407 [==============================] - 23s 16ms/step - loss: 0.2214 - accuracy: 0.9194 - val_loss: 0.2835 - val_accuracy: 0.8999\n",
      "Epoch 6/10\n",
      "1407/1407 [==============================] - 22s 16ms/step - loss: 0.2006 - accuracy: 0.9274 - val_loss: 0.2669 - val_accuracy: 0.9094\n",
      "Epoch 7/10\n",
      "1407/1407 [==============================] - 24s 17ms/step - loss: 0.1839 - accuracy: 0.9336 - val_loss: 0.3169 - val_accuracy: 0.8930\n",
      "Epoch 8/10\n",
      "1407/1407 [==============================] - 23s 17ms/step - loss: 0.1707 - accuracy: 0.9386 - val_loss: 0.2785 - val_accuracy: 0.9088\n",
      "Epoch 9/10\n",
      "1407/1407 [==============================] - 23s 17ms/step - loss: 0.1579 - accuracy: 0.9428 - val_loss: 0.2785 - val_accuracy: 0.9051\n",
      "Epoch 10/10\n",
      "1407/1407 [==============================] - 22s 15ms/step - loss: 0.1459 - accuracy: 0.9459 - val_loss: 0.3365 - val_accuracy: 0.9068\n"
     ]
    }
   ],
   "source": [
    "history = model.fit(x_train, y_train, epochs=10, batch_size=32, validation_split=0.20)\n",
    "\n",
    "# epochs=10: \n",
    "# In this example, the model is trained for 10 epochs. \n",
    "# This is a relatively small number of epochs, and in practice, you may experiment with higher values to achieve better convergence and performance.\n",
    "\n",
    "# batch_size=32: \n",
    "# The model processes 32 samples together before updating the weights. \n",
    "# The choice of batch size can depend on the available memory and computational resources. Smaller batch sizes may lead to more frequent weight updates and can help with generalization, but they might also require more training time.\n",
    "\n",
    "# validation_split=0.20: \n",
    "# Here, 20% of the training data is used as a validation set to monitor the model's performance during training. \n",
    "# This means that the remaining 80% is used for actual training. A validation split of 0.20 is a common practice, but you can adjust this value based on the size of your dataset and the level of confidence you need in the validation performance."
   ]
  },
  {
   "attachments": {},
   "cell_type": "markdown",
   "metadata": {},
   "source": [
    "*The training loss* measures how well the model is fitting the training data, and the *training accuracy* represents the proportion of correct predictions on the training dataset.\n",
    "\n",
    "The *validation loss* measures how well the model is generalizing to new, unseen data, and the *validation accuracy* represents the proportion of correct predictions on the validation dataset."
   ]
  },
  {
   "attachments": {},
   "cell_type": "markdown",
   "metadata": {},
   "source": [
    "### Interpreting the results:\n",
    "\n",
    "The training loss is significantly lower (0.1488) than the validation loss (0.2842), which is a good sign. It suggests that the model is fitting the training data well, and it's not overfitting to the training data.\n",
    "\n",
    "The training accuracy (94.60%) is higher than the validation accuracy (90.94%). This difference is normal, as the model may slightly overfit to the training data. However, the gap between training and validation accuracy is not excessive, indicating good generalization.\n",
    "\n",
    "The validation accuracy of approximately 90.94% is quite good for the Fashion-MNIST dataset, which consists of grayscale images of clothing items. This result suggests that your model is performing well on unseen data."
   ]
  },
  {
   "attachments": {},
   "cell_type": "markdown",
   "metadata": {},
   "source": [
    "## 07. Visualizing the training history\n",
    "\n",
    "Visualizing the training history allows you to gain insights into how your model is performing during the training process. In Python with TensorFlow/Keras, you can easily plot the training and validation metrics stored in the history object, which is returned by the fit() method after training the model.\n",
    "\n",
    "The history object contains training metrics, such as the loss and accuracy, for each epoch. To visualize the training progress, you can use matplotlib or any other plotting library of your choice. Here's an example of how to visualize the training and validation accuracy and loss using matplotlib:"
   ]
  },
  {
   "cell_type": "code",
   "execution_count": 82,
   "metadata": {},
   "outputs": [
    {
     "data": {
      "image/png": "[encoded data removed]",
      "text/plain": [
       "<Figure size 800x600 with 1 Axes>"
      ]
     },
     "metadata": {},
     "output_type": "display_data"
    }
   ],
   "source": [
    "import matplotlib.pyplot as plt\n",
    "\n",
    "# Assuming you have already trained the model and have the history object\n",
    "# history = model.fit(x_train, y_train, epochs=10, batch_size=32, validation_split=0.2)\n",
    "\n",
    "# Accessing training and validation metrics from history\n",
    "training_loss = history.history['loss']\n",
    "training_accuracy = history.history['accuracy']\n",
    "validation_loss = history.history['val_loss']\n",
    "validation_accuracy = history.history['val_accuracy']\n",
    "\n",
    "# Plotting the training and validation loss\n",
    "plt.figure(figsize=(8, 6))\n",
    "plt.plot(range(1, len(training_loss) + 1), training_loss, label='Training Loss')\n",
    "plt.plot(range(1, len(validation_loss) + 1), validation_loss, label='Validation Loss')\n",
    "plt.xlabel('Epochs')\n",
    "plt.ylabel('Loss')\n",
    "plt.legend()\n",
    "plt.title('Training and Validation Loss')\n",
    "plt.show()"
   ]
  },
  {
   "cell_type": "code",
   "execution_count": 83,
   "metadata": {},
   "outputs": [
    {
     "data": {
      "image/png": "[encoded data removed]",
      "text/plain": [
       "<Figure size 800x600 with 1 Axes>"
      ]
     },
     "metadata": {},
     "output_type": "display_data"
    }
   ],
   "source": [
    "# Plotting the training and validation accuracy\n",
    "plt.figure(figsize=(8, 6))\n",
    "plt.plot(range(1, len(training_accuracy) + 1), training_accuracy, label='Training Accuracy')\n",
    "plt.plot(range(1, len(validation_accuracy) + 1), validation_accuracy, label='Validation Accuracy')\n",
    "plt.xlabel('Epochs')\n",
    "plt.ylabel('Accuracy')\n",
    "plt.legend()\n",
    "plt.title('Training and Validation Accuracy')\n",
    "plt.show()"
   ]
  },
  {
   "attachments": {},
   "cell_type": "markdown",
   "metadata": {},
   "source": [
    "## 08. Model evaluation on the test data\n",
    "\n",
    "Evaluating the model on the test data is an important step to assess its performance on unseen data and understand how well it will generalize to real-world scenarios.\n"
   ]
  },
  {
   "cell_type": "code",
   "execution_count": 84,
   "metadata": {},
   "outputs": [
    {
     "name": "stdout",
     "output_type": "stream",
     "text": [
      "313/313 [==============================] - 1s 3ms/step - loss: 0.3678 - accuracy: 0.9005\n",
      "Test Loss: 0.367801696062088\n",
      "Test Accuracy: 0.9004999995231628\n"
     ]
    }
   ],
   "source": [
    "#using the evaluate() method\n",
    "\n",
    "test_loss, test_accuracy = model.evaluate(x_test, y_test)\n",
    "\n",
    "print(\"Test Loss:\", test_loss)\n",
    "print(\"Test Accuracy:\", test_accuracy)"
   ]
  },
  {
   "attachments": {},
   "cell_type": "markdown",
   "metadata": {},
   "source": [
    "### Explanation:\n",
    "\n",
    "test_loss, test_accuracy = model.evaluate(x_test, y_test): \n",
    "The evaluate() method is used to evaluate the trained model on the test dataset. It takes the test input data (x_test) and the corresponding true labels (y_test) as input. The method returns the test loss and test accuracy.\n",
    "\n",
    "test_loss: \n",
    "The test loss represents how well the model performs on the test dataset. It is a measure of the discrepancy between the true test labels and the predicted probabilities. Lower test loss indicates better model performance on the test data.\n",
    "\n",
    "test_accuracy: \n",
    "The test accuracy represents the proportion of correct predictions made by the model on the test dataset. It gives an indication of how well the model generalizes to new, unseen data.\n",
    "\n",
    "Keep in mind that the test accuracy should be similar to the validation accuracy obtained during training, indicating that the model is generalizing well. If the test accuracy is significantly lower than the validation accuracy, it may indicate overfitting during training.\n"
   ]
  },
  {
   "attachments": {},
   "cell_type": "markdown",
   "metadata": {},
   "source": [
    "## 09. Saving & Loading the DEEP LEARNING MODEL\n",
    "\n",
    "- To save a trained model in TensorFlow/Keras, you can use the save() method as follows:\n",
    "\n",
    "### Saving:"
   ]
  },
  {
   "cell_type": "code",
   "execution_count": 85,
   "metadata": {},
   "outputs": [
    {
     "name": "stdout",
     "output_type": "stream",
     "text": [
      "INFO:tensorflow:Assets written to: /Users/robertkurtz/Desktop/DataScience/fashion-mnist/benchmark/models/assets\n"
     ]
    },
    {
     "name": "stderr",
     "output_type": "stream",
     "text": [
      "INFO:tensorflow:Assets written to: /Users/robertkurtz/Desktop/DataScience/fashion-mnist/benchmark/models/assets\n"
     ]
    }
   ],
   "source": [
    "# Saving the model to a file\n",
    "model.save('/Users/robertkurtz/Desktop/DataScience/fashion-mnist/benchmark/models')"
   ]
  },
  {
   "attachments": {},
   "cell_type": "markdown",
   "metadata": {},
   "source": [
    "#### model.save('path_to_save_model'): \n",
    "The save() method is used to save the entire trained model to a specified file or directory. You need to provide the path where you want to save the model.\n",
    "\n",
    "- *If you specify a directory path (e.g., 'models/'), TensorFlow/Keras will create a directory with that name and save the model files within it.*\n",
    "- *If you specify a file path with a specific extension (e.g., 'model.h5'), TensorFlow/Keras will save the entire model to that file.*\n",
    "\n",
    "When you use the model.save() method, TensorFlow/Keras saves the model architecture, model configuration, model weights, optimizer state, and any additional information related to the model's training. This way, you can load the model back at a later time and continue training or use it for making predictions on new data.\n",
    "\n",
    "### Loading:\n"
   ]
  },
  {
   "cell_type": "code",
   "execution_count": 86,
   "metadata": {},
   "outputs": [],
   "source": [
    "from tensorflow.keras.models import load_model\n",
    "\n",
    "# Load the model from the saved file\n",
    "loaded_model = load_model('/Users/robertkurtz/Desktop/DataScience/fashion-mnist/benchmark/models')"
   ]
  },
  {
   "attachments": {},
   "cell_type": "markdown",
   "metadata": {},
   "source": [
    "After loading the model, you can use it for prediction or continue training if needed. It's important to note that you should have the same version of TensorFlow/Keras installed to ensure compatibility between saving and loading the model.\n",
    "\n",
    "In summary, saving a trained deep learning model in TensorFlow/Keras is similar to saving a machine learning model using pickle, but TensorFlow/Keras's save() method preserves additional information required for deep learning models, such as the architecture and optimizer state."
   ]
  },
  {
   "attachments": {},
   "cell_type": "markdown",
   "metadata": {},
   "source": [
    "## 10. (Theoretically) making predictions\n",
    "\n",
    "Once I am satisfied with the model's performance on the test data, I can use it for making predictions on new, unseen data in my application or use case."
   ]
  },
  {
   "cell_type": "code",
   "execution_count": 87,
   "metadata": {},
   "outputs": [],
   "source": [
    "# Currently we don't have any new data...!!!!!\n",
    "\n",
    "# Using the `predict()` method to make predictions on new data\n",
    "\n",
    "# --> predictions = model.predict(x_new_data)\n",
    "\n",
    "# The `predictions` variable now contains the predicted probabilities for each class\n",
    "# You can use `np.argmax()` to get the predicted class labels\n",
    "\n",
    "# --> predicted_labels = np.argmax(predictions, axis=1)\n",
    "\n",
    "# The `predicted_labels` variable contains the predicted class labels for the new data\n",
    "# These labels correspond to the class with the highest probability for each sample in the new data\n"
   ]
  },
  {
   "attachments": {},
   "cell_type": "markdown",
   "metadata": {},
   "source": [
    "### Explanation:\n",
    "\n",
    "- model.predict(x_new_data): The predict() method is used to make predictions on new data (x_new_data) using your trained model. The method takes the new data as input and returns the predicted probabilities for each class.\n",
    "\n",
    "- predictions: The predictions variable holds the predicted probabilities for each sample in the new data. Each row of predictions represents the predicted probabilities for a single sample, and each column corresponds to a class label.\n",
    "\n",
    "- np.argmax(predictions, axis=1): To obtain the predicted class labels, we use np.argmax() function along axis=1. This function returns the indices of the maximum values along the specified axis, which corresponds to the predicted class label for each sample.\n",
    "\n",
    "- predicted_labels: The predicted_labels variable contains the predicted class labels for the new data. These labels represent the class with the highest probability for each sample in the new data.\n",
    "\n",
    "- After executing this code, the predicted_labels variable will contain the predicted class labels for your new, unseen data. You can use these predicted labels for various applications, such as classification tasks or generating insights based on your model's predictions.\n",
    "\n",
    "- Remember to preprocess the new data in the same way as the training and test data to ensure that the input data is in the correct format (e.g., reshaped and normalized) before making predictions. This ensures that the data is compatible with the input requirements of your trained model.\n",
    "\n",
    "- By following these steps, you can effectively use your trained model to make predictions on real-world data and apply the knowledge gained from your deep learning model to various practical applications"
   ]
  },
  {
   "attachments": {},
   "cell_type": "markdown",
   "metadata": {},
   "source": [
    "# FINALE"
   ]
  }
 ],
 "metadata": {
  "kernelspec": {
   "display_name": "Python 3",
   "language": "python",
   "name": "python3"
  },
  "language_info": {
   "codemirror_mode": {
    "name": "ipython",
    "version": 3
   },
   "file_extension": ".py",
   "mimetype": "text/x-python",
   "name": "python",
   "nbconvert_exporter": "python",
   "pygments_lexer": "ipython3",
   "version": "3.10.6"
  },
  "orig_nbformat": 4
 },
 "nbformat": 4,
 "nbformat_minor": 2
}
